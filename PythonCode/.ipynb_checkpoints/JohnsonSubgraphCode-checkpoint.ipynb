{
 "cells": [
  {
   "cell_type": "code",
   "execution_count": 59,
   "metadata": {},
   "outputs": [
    {
     "name": "stdout",
     "output_type": "stream",
     "text": [
      "[0, 0, 0, 0, 0, 3, 4, 3, 5, 5]\n"
     ]
    }
   ],
   "source": [
    "def pairs(n,k,i,F):\n",
    "    E = []\n",
    "    for j in range(len(F)):\n",
    "        for l in range(j,len(F)):\n",
    "            if l != j:\n",
    "                if (F[j][0].intersection(F[l][0])).cardinality() == k-i:\n",
    "                    E.append([F[j],F[l]])\n",
    "    return E\n",
    "\n",
    "def printEdges(E):\n",
    "    print(E)\n",
    "    print(len(E))\n",
    "\n",
    "def printLaTeX(EdgeList,SetList):\n",
    "    for e in EdgeList:\n",
    "         print(\"\\\\draw[black] (\",e[0][1]*360/(len(SetList))+90,\" : \",n^0.6,\")--(\",e[1][1]*360/(len(SetList))+90,\" : \",n^0.6,\");\")\n",
    "    for j in range(len(SetList)):\n",
    "        print(\"\\\\draw[fill=black] (\",j*360/(len(SetList))+90,\" : \",n^0.6+0.5,\") node {$\",SetList[j][0],\"$};\")\n",
    "    \n",
    "n = 43\n",
    "k = 11\n",
    "N = [4,3,2,5,9,4,3,1,6,3,3]\n",
    "degreeSeq = []\n",
    "for i in range(1,k):\n",
    "    A = [0 + sum(N[j] for j in range(l)) for l in range(len(N))]\n",
    "    L = []\n",
    "    for l in range(n):\n",
    "        ATranslate = [Set((A[j]+l) % n for j in range(len(A))),l]\n",
    "        L.append(ATranslate)\n",
    "        #print(ATranslate)\n",
    "    Edges = pairs(n,k,i,L)\n",
    "    degree = len(Edges)/n\n",
    "    degreeSeq.append(degree)\n",
    "    #printEdges(Edges)\n",
    "    #printLaTeX(Edges,L)\n",
    "print(degreeSeq)\n",
    "#    print(Edges)\n",
    "#    print(len(Edges))\n",
    "#    for e in Edges:\n",
    "#         print(\"\\\\draw[black] (\",e[0][1]*360/(len(L))+90,\" : \",n^0.6,\")--(\",e[1][1]*360/(len(L))+90,\" : \",n^0.6,\");\")\n",
    "#    for j in range(len(L)):\n",
    "#        print(\"\\\\draw[fill=black] (\",j*360/(len(L))+90,\" : \",n^0.6+0.5,\") node {$\",L[j][0],\"$};\")"
   ]
  },
  {
   "cell_type": "code",
   "execution_count": null,
   "metadata": {},
   "outputs": [],
   "source": []
  }
 ],
 "metadata": {
  "kernelspec": {
   "display_name": "SageMath 9.0",
   "language": "sage",
   "name": "sagemath"
  },
  "language_info": {
   "codemirror_mode": {
    "name": "ipython",
    "version": 3
   },
   "file_extension": ".py",
   "mimetype": "text/x-python",
   "name": "python",
   "nbconvert_exporter": "python",
   "pygments_lexer": "ipython3",
   "version": "3.8.10"
  }
 },
 "nbformat": 4,
 "nbformat_minor": 4
}

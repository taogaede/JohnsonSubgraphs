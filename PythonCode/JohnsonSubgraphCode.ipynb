{
 "cells": [
  {
   "cell_type": "code",
   "execution_count": 37,
   "metadata": {},
   "outputs": [
    {
     "ename": "SyntaxError",
     "evalue": "invalid syntax (<ipython-input-37-5db5a88979f5>, line 26)",
     "output_type": "error",
     "traceback": [
      "\u001b[0;36m  File \u001b[0;32m\"<ipython-input-37-5db5a88979f5>\"\u001b[0;36m, line \u001b[0;32m26\u001b[0m\n\u001b[0;31m    for l in range(Integer(4)):\u001b[0m\n\u001b[0m                              ^\u001b[0m\n\u001b[0;31mSyntaxError\u001b[0m\u001b[0;31m:\u001b[0m invalid syntax\n"
     ]
    }
   ],
   "source": [
    "def pairs(n,k,i,F):\n",
    "    E = []\n",
    "    for j in range(len(F)):\n",
    "        for l in range(len(F)):\n",
    "            if l != j:\n",
    "                #print(F[j].intersection(F[l]).cardinality())\n",
    "                #print(k-i)\n",
    "                if (F[j].intersection(F[l])).cardinality() == k-i:\n",
    "                    E.append([F[j],F[l]])\n",
    "    return E\n",
    "\n",
    "n = 12\n",
    "k = 3\n",
    "i = 1\n",
    "N = [2,4,6]\n",
    "A = [0 + sum(N[j] for j in range(l)) for l in range(len(N))]\n",
    "L = []\n",
    "for l in range(n):\n",
    "    ATranslate = Set((A[j]+l) % n for j in range(len(A)))\n",
    "    L.append(ATranslate)\n",
    "    print(ATranslate)\n",
    "Edges = pairs(n,k,i,L)\n",
    "print(Edges)\n",
    "for j in range(4):\n",
    "    print(\"\\draw[fill=black] (\",j*360/(len(L),\") : 5) node {$\",L[j],\"$};\")\n",
    "    for l in range(4):\n",
    "        for e in Edges:\n",
    "            if L[j] == e[0] and L[l] == e[1]:\n",
    "                print(\"\\draw[black] (\",j*360/(len(L),\") : 5)--(\",l*360/(len(L),\") : 5);\")\n",
    "            "
   ]
  },
  {
   "cell_type": "code",
   "execution_count": null,
   "metadata": {},
   "outputs": [],
   "source": []
  }
 ],
 "metadata": {
  "kernelspec": {
   "display_name": "SageMath 9.3",
   "language": "sage",
   "name": "sagemath"
  },
  "language_info": {
   "codemirror_mode": {
    "name": "ipython",
    "version": 3
   },
   "file_extension": ".py",
   "mimetype": "text/x-python",
   "name": "python",
   "nbconvert_exporter": "python",
   "pygments_lexer": "ipython3",
   "version": "3.7.10"
  }
 },
 "nbformat": 4,
 "nbformat_minor": 4
}

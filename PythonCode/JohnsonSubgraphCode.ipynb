{
 "cells": [
  {
   "cell_type": "code",
   "execution_count": 3,
   "metadata": {},
   "outputs": [
    {
     "name": "stdout",
     "output_type": "stream",
     "text": [
      "\\draw[black] ( 90  :  2.62652780440377 )--( 162  :  2.62652780440377 );\n",
      "\\draw[black] ( 90  :  2.62652780440377 )--( 378  :  2.62652780440377 );\n",
      "\\draw[black] ( 162  :  2.62652780440377 )--( 234  :  2.62652780440377 );\n",
      "\\draw[black] ( 234  :  2.62652780440377 )--( 306  :  2.62652780440377 );\n",
      "\\draw[black] ( 306  :  2.62652780440377 )--( 378  :  2.62652780440377 );\n",
      "\\draw[fill=black] ( 90  :  3.12652780440377 ) node {$ {0, 1, 2} $};\n",
      "\\draw[fill=black] ( 162  :  3.12652780440377 ) node {$ {1, 2, 3} $};\n",
      "\\draw[fill=black] ( 234  :  3.12652780440377 ) node {$ {2, 3, 4} $};\n",
      "\\draw[fill=black] ( 306  :  3.12652780440377 ) node {$ {0, 3, 4} $};\n",
      "\\draw[fill=black] ( 378  :  3.12652780440377 ) node {$ {0, 1, 4} $};\n",
      "\\draw[black] ( 90  :  2.62652780440377 )--( 234  :  2.62652780440377 );\n",
      "\\draw[black] ( 90  :  2.62652780440377 )--( 306  :  2.62652780440377 );\n",
      "\\draw[black] ( 162  :  2.62652780440377 )--( 306  :  2.62652780440377 );\n",
      "\\draw[black] ( 162  :  2.62652780440377 )--( 378  :  2.62652780440377 );\n",
      "\\draw[black] ( 234  :  2.62652780440377 )--( 378  :  2.62652780440377 );\n",
      "\\draw[fill=black] ( 90  :  3.12652780440377 ) node {$ {0, 1, 2} $};\n",
      "\\draw[fill=black] ( 162  :  3.12652780440377 ) node {$ {1, 2, 3} $};\n",
      "\\draw[fill=black] ( 234  :  3.12652780440377 ) node {$ {2, 3, 4} $};\n",
      "\\draw[fill=black] ( 306  :  3.12652780440377 ) node {$ {0, 3, 4} $};\n",
      "\\draw[fill=black] ( 378  :  3.12652780440377 ) node {$ {0, 1, 4} $};\n",
      "[2, 2]\n"
     ]
    }
   ],
   "source": [
    "def pairs(n,k,i,F):\n",
    "    E = []\n",
    "    for j in range(len(F)):\n",
    "        for l in range(j,len(F)):\n",
    "            if l != j:\n",
    "                if (F[j][0].intersection(F[l][0])).cardinality() == k-i:\n",
    "                    E.append([F[j],F[l]])\n",
    "    return E\n",
    "\n",
    "def printEdges(E):\n",
    "    print(E)\n",
    "    print(len(E))\n",
    "\n",
    "def printLaTeX(EdgeList,SetList):\n",
    "    for e in EdgeList:\n",
    "         print(\"\\\\draw[black] (\",e[0][1]*360/(len(SetList))+90,\" : \",n^0.6,\")--(\",e[1][1]*360/(len(SetList))+90,\" : \",n^0.6,\");\")\n",
    "    for j in range(len(SetList)):\n",
    "        print(\"\\\\draw[fill=black] (\",j*360/(len(SetList))+90,\" : \",n^0.6+0.5,\") node {$\",SetList[j][0],\"$};\")\n",
    "    \n",
    "n = 5\n",
    "k = 3\n",
    "N = [1,1,3]\n",
    "degreeSeq = []\n",
    "for i in range(1,k):\n",
    "    A = [0 + sum(N[j] for j in range(l)) for l in range(len(N))]\n",
    "    L = []\n",
    "    for l in range(n):\n",
    "        ATranslate = [Set((A[j]+l) % n for j in range(len(A))),l]\n",
    "        L.append(ATranslate)\n",
    "        #print(ATranslate)\n",
    "    Edges = pairs(n,k,i,L)\n",
    "    degree = (2*len(Edges))/n\n",
    "    degreeSeq.append(degree)\n",
    "    #printEdges(Edges)\n",
    "    printLaTeX(Edges,L)\n",
    "print(degreeSeq)\n",
    "#    print(Edges)\n",
    "#    print(len(Edges))\n",
    "#    for e in Edges:\n",
    "#         print(\"\\\\draw[black] (\",e[0][1]*360/(len(L))+90,\" : \",n^0.6,\")--(\",e[1][1]*360/(len(L))+90,\" : \",n^0.6,\");\")\n",
    "#    for j in range(len(L)):\n",
    "#        print(\"\\\\draw[fill=black] (\",j*360/(len(L))+90,\" : \",n^0.6+0.5,\") node {$\",L[j][0],\"$};\")"
   ]
  },
  {
   "cell_type": "code",
   "execution_count": null,
   "metadata": {},
   "outputs": [],
   "source": []
  }
 ],
 "metadata": {
  "kernelspec": {
   "display_name": "SageMath 9.0",
   "language": "sage",
   "name": "sagemath"
  },
  "language_info": {
   "codemirror_mode": {
    "name": "ipython",
    "version": 3
   },
   "file_extension": ".py",
   "mimetype": "text/x-python",
   "name": "python",
   "nbconvert_exporter": "python",
   "pygments_lexer": "ipython3",
   "version": "3.8.10"
  }
 },
 "nbformat": 4,
 "nbformat_minor": 4
}
